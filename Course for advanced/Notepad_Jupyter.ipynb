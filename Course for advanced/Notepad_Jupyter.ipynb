{
 "cells": [
  {
   "cell_type": "markdown",
   "metadata": {},
   "source": [
    "### 15.9.12 - Интересные числа"
   ]
  },
  {
   "cell_type": "markdown",
   "metadata": {},
   "source": [
    "Первый вариант решения - простой"
   ]
  },
  {
   "cell_type": "code",
   "execution_count": null,
   "metadata": {},
   "outputs": [],
   "source": [
    "a, b = int(input()), int(input())\n",
    "\n",
    "for i in range(a, b + 1):\n",
    "    condition = []\n",
    "    if '0' in str(i):\n",
    "        continue\n",
    "    for num in str(i):\n",
    "        if i % int(num) == 0:\n",
    "            condition.append(True)\n",
    "        else:\n",
    "            condition.append(False)\n",
    "    if all(condition):\n",
    "        print(i)"
   ]
  },
  {
   "cell_type": "markdown",
   "metadata": {},
   "source": [
    "Второй вариант - с лямбдами и тд"
   ]
  },
  {
   "cell_type": "code",
   "execution_count": null,
   "metadata": {},
   "outputs": [],
   "source": [
    "def check(num):\n",
    "    return all(map(lambda x: int(x) and num % int(x) == 0, str(num)))\n",
    "\n",
    "\n",
    "print(*list(filter(check, range(int(input()), int(input()) + 1))))"
   ]
  },
  {
   "cell_type": "markdown",
   "metadata": {},
   "source": [
    "### 15.9.13 - Хороший пароль"
   ]
  },
  {
   "cell_type": "code",
   "execution_count": null,
   "metadata": {},
   "outputs": [],
   "source": [
    "password = input()"
   ]
  },
  {
   "cell_type": "code",
   "execution_count": null,
   "metadata": {},
   "outputs": [],
   "source": [
    "print('YES' if all([any(map(str.isupper, password)), any(map(str.islower, password)), any(map(str.isdigit, password)),\n",
    "                    len(password) >= 7]) else 'NO')"
   ]
  },
  {
   "cell_type": "markdown",
   "metadata": {},
   "source": [
    "### 15.9.14 - Отличники"
   ]
  },
  {
   "cell_type": "code",
   "execution_count": null,
   "metadata": {},
   "outputs": [],
   "source": [
    "pupils = [[int(input()[-1]) for j in range(int(input()))] for i in range(int(input()))]"
   ]
  },
  {
   "cell_type": "code",
   "execution_count": null,
   "metadata": {},
   "outputs": [],
   "source": [
    "print('YES' if all(map(lambda x: True if 5 in x else False, pupils)) else 'NO')"
   ]
  },
  {
   "cell_type": "markdown",
   "source": [
    "### 17.2.11 Содержимое файла"
   ],
   "metadata": {
    "collapsed": false
   }
  },
  {
   "cell_type": "code",
   "execution_count": null,
   "outputs": [],
   "source": [
    "file = open(input())\n",
    "print(file.read())\n",
    "file.close()"
   ],
   "metadata": {
    "collapsed": false
   }
  },
  {
   "cell_type": "markdown",
   "source": [
    "### 17.2.12 Предпоследняя строка"
   ],
   "metadata": {
    "collapsed": false
   }
  },
  {
   "cell_type": "code",
   "execution_count": null,
   "outputs": [],
   "source": [
    "file = open(input())\n",
    "print(file.readlines()[-2])\n",
    "file.close()"
   ],
   "metadata": {
    "collapsed": false
   }
  },
  {
   "cell_type": "markdown",
   "source": [
    "### 17.2.13 Случайная строка"
   ],
   "metadata": {
    "collapsed": false
   }
  },
  {
   "cell_type": "code",
   "execution_count": null,
   "outputs": [],
   "source": [
    "from random import choice\n",
    "\n",
    "file = open('lines.txt', encoding='UTF-8')\n",
    "print(choice(file.readlines()))\n",
    "file.close()"
   ],
   "metadata": {
    "collapsed": false
   }
  },
  {
   "cell_type": "markdown",
   "source": [
    "### 17.2.14 Сумма двух-1"
   ],
   "metadata": {
    "collapsed": false
   }
  },
  {
   "cell_type": "code",
   "execution_count": null,
   "outputs": [],
   "source": [
    "file = open('numbers.txt', encoding='UTF-8')\n",
    "lines = file.readlines()\n",
    "print(int(lines[0]) + int(lines[1]))\n",
    "file.close()"
   ],
   "metadata": {
    "collapsed": false
   }
  },
  {
   "cell_type": "markdown",
   "source": [
    "### 17.2.15 Сумма двух-2"
   ],
   "metadata": {
    "collapsed": false
   }
  },
  {
   "cell_type": "code",
   "execution_count": null,
   "outputs": [],
   "source": [
    "file = open('nums.txt', encoding='UTF-8')\n",
    "lines = file.read().split()\n",
    "print(sum(map(int, lines)))\n",
    "file.close()"
   ],
   "metadata": {
    "collapsed": false
   }
  },
  {
   "cell_type": "markdown",
   "source": [
    "### 17.2.16 Общая стоимость"
   ],
   "metadata": {
    "collapsed": false
   }
  },
  {
   "cell_type": "code",
   "execution_count": null,
   "outputs": [],
   "source": [
    "file = open('prices.txt', encoding='UTF-8')\n",
    "lines = [line.strip().split() for line in file.readlines()]\n",
    "print(sum(map(lambda x: int(x[1]) * int(x[2]), lines)))\n",
    "file.close()"
   ],
   "metadata": {
    "collapsed": false
   }
  },
  {
   "cell_type": "markdown",
   "source": [
    "### 17.3.7 Переворот строки"
   ],
   "metadata": {
    "collapsed": false
   }
  },
  {
   "cell_type": "code",
   "execution_count": null,
   "outputs": [],
   "source": [
    "with open('text.txt', encoding='UTF-8') as file:\n",
    "    [print(line[::-1]) for line in file]"
   ],
   "metadata": {
    "collapsed": false
   }
  },
  {
   "cell_type": "markdown",
   "source": [
    "### 17.3.8 Обратный порядок"
   ],
   "metadata": {
    "collapsed": false
   }
  },
  {
   "cell_type": "code",
   "execution_count": null,
   "outputs": [],
   "source": [
    "with open('data.txt', encoding='UTF-8') as file:\n",
    "    [print(line) for line in map(str.strip, file.readlines()[::-1])]"
   ],
   "metadata": {
    "collapsed": false
   }
  },
  {
   "cell_type": "markdown",
   "source": [
    "### 17.3.9 Длинные строки"
   ],
   "metadata": {
    "collapsed": false
   }
  },
  {
   "cell_type": "code",
   "execution_count": null,
   "outputs": [],
   "source": [
    "with open('lines.txt', encoding='UTF-8') as file:\n",
    "    lines = [line.strip() for line in file]\n",
    "    lines.sort(key=len, reverse=True)\n",
    "    print(*filter(lambda x: len(x) == len(lines[0]), lines), sep='\\n')"
   ],
   "metadata": {
    "collapsed": false
   }
  },
  {
   "cell_type": "markdown",
   "source": [
    "### 17.3.10 Сумма чисел в строках"
   ],
   "metadata": {
    "collapsed": false
   }
  },
  {
   "cell_type": "code",
   "execution_count": null,
   "outputs": [],
   "source": [
    "with open('numbers.txt', encoding='UTF-8') as file:\n",
    "    lines = [[int(x) for x in line.split()] for line in file.readlines()]\n",
    "[print(sum(line)) for line in lines]"
   ],
   "metadata": {
    "collapsed": false
   }
  },
  {
   "cell_type": "markdown",
   "source": [
    "### 17.3.11 Сумма чисел в файле"
   ],
   "metadata": {
    "collapsed": false
   }
  },
  {
   "cell_type": "code",
   "execution_count": null,
   "outputs": [],
   "source": [
    "from string import ascii_letters\n",
    "\n",
    "with open('nums.txt', encoding='UTF-8') as file:\n",
    "    lines = [line.strip() for line in file.readlines()]\n",
    "\n",
    "for letter in ascii_letters:\n",
    "    for i in range(len(lines)):\n",
    "        lines[i] = lines[i].replace(letter, ' ')\n",
    "lines = [[int(x) for x in line.split()] for line in lines]\n",
    "\n",
    "summa = 0\n",
    "for line in lines:\n",
    "    summa += sum(line)\n",
    "print(summa)"
   ],
   "metadata": {
    "collapsed": false
   }
  },
  {
   "cell_type": "markdown",
   "source": [
    "Вариант короткий и правильный (не мой)"
   ],
   "metadata": {
    "collapsed": false
   }
  },
  {
   "cell_type": "code",
   "execution_count": null,
   "outputs": [],
   "source": [
    "with open('nums.txt', encoding='utf-8') as file:\n",
    "    row = ''.join(c if c.isdigit() else ' ' for c in file.read())\n",
    "    print(sum(map(int, row.split())))"
   ],
   "metadata": {
    "collapsed": false
   }
  },
  {
   "cell_type": "markdown",
   "source": [
    "### 17.3.12 Статистика по файлу"
   ],
   "metadata": {
    "collapsed": false
   }
  },
  {
   "cell_type": "code",
   "execution_count": null,
   "outputs": [],
   "source": [
    "from string import ascii_letters\n",
    "\n",
    "with open('file.txt', encoding='UTF-8') as file:\n",
    "    lines = [line.strip() for line in file.readlines()]\n",
    "\n",
    "len_lines = len(lines)\n",
    "letters = sum([sum([1 for c in line if c in ascii_letters]) for line in lines])\n",
    "words = sum([len(line.split()) for line in lines])\n",
    "\n",
    "print(f'''Input file contains:\n",
    "{letters} letters\n",
    "{words} words\n",
    "{len_lines} lines''')"
   ],
   "metadata": {
    "collapsed": false
   }
  },
  {
   "cell_type": "markdown",
   "source": [
    "Прикольный способ решения от другого человека"
   ],
   "metadata": {
    "collapsed": false
   }
  },
  {
   "cell_type": "code",
   "execution_count": null,
   "outputs": [],
   "source": [
    "with open('lines.txt', encoding='UTF-8') as f:\n",
    "    txt = f.read()\n",
    "    print('Input file contains:')\n",
    "    print(sum(map(str.isalpha, txt)), 'letters')\n",
    "    print(len(txt.split()), 'words')\n",
    "    print(txt.count('\\n') + 1, 'lines')"
   ],
   "metadata": {
    "collapsed": false
   }
  },
  {
   "cell_type": "markdown",
   "source": [
    "### 17.3.13 Random name and surname"
   ],
   "metadata": {
    "collapsed": false
   }
  },
  {
   "cell_type": "code",
   "execution_count": null,
   "outputs": [],
   "source": [
    "from random import choice\n",
    "\n",
    "with open('first_names.txt', encoding='UTF-8') as first, open('last_names.txt', encoding='UTF-8') as last:\n",
    "    first_names, last_names = [line.strip() for line in first], [line.strip() for line in last]\n",
    "\n",
    "[print(f'{choice(first_names)} {choice(last_names)}') for _ in range(3)]"
   ],
   "metadata": {
    "collapsed": false
   }
  },
  {
   "cell_type": "markdown",
   "source": [
    "### 17.3.14 Необычные страны"
   ],
   "metadata": {
    "collapsed": false
   }
  },
  {
   "cell_type": "code",
   "execution_count": null,
   "outputs": [],
   "source": [
    "with open('population.txt', encoding='UTF-8') as file:\n",
    "    lines = [line.strip().split('\\t') for line in file]\n",
    "\n",
    "countries = {k: int(v) for k, v in lines}\n",
    "print(*filter(lambda x: countries.get(x) > 500_000 and x.startswith('G'), countries), sep='\\n')"
   ],
   "metadata": {
    "collapsed": false
   }
  },
  {
   "cell_type": "markdown",
   "source": [
    "### 17.3.15 CSV-файл"
   ],
   "metadata": {
    "collapsed": false
   }
  },
  {
   "cell_type": "code",
   "execution_count": null,
   "outputs": [],
   "source": [
    "def read_csv():\n",
    "    with open('data.csv', encoding='UTF-8') as file:\n",
    "        lines = [line.strip().split(',') for line in file]\n",
    "\n",
    "    keys = lines[0]\n",
    "    del lines[0]\n",
    "\n",
    "    dicts = []\n",
    "    for i in lines:\n",
    "        dicts.append(dict(zip(keys, i)))\n",
    "    return dicts\n",
    "\n",
    "\n",
    "print(read_csv())"
   ],
   "metadata": {
    "collapsed": false
   }
  },
  {
   "cell_type": "markdown",
   "source": [
    "Не мой вариант решения:"
   ],
   "metadata": {
    "collapsed": false
   }
  },
  {
   "cell_type": "code",
   "execution_count": null,
   "outputs": [],
   "source": [
    "def read_csv():\n",
    "    with open('data.csv') as file:\n",
    "        keys = file.readline().strip().split(',')\n",
    "        return [dict(zip(keys, line.strip().split(','))) for line in file]"
   ],
   "metadata": {
    "collapsed": false
   }
  },
  {
   "cell_type": "markdown",
   "source": [
    "### 17.4.8 Входная строка"
   ],
   "metadata": {
    "collapsed": false
   }
  },
  {
   "cell_type": "code",
   "execution_count": null,
   "outputs": [],
   "source": [
    "with open('output.txt', 'w', encoding='UTF-8') as file:\n",
    "    print(input(), file=file)"
   ],
   "metadata": {
    "collapsed": false
   }
  },
  {
   "cell_type": "markdown",
   "source": [
    "### 17.4.9 Случайные числа"
   ],
   "metadata": {
    "collapsed": false
   }
  },
  {
   "cell_type": "code",
   "execution_count": null,
   "outputs": [],
   "source": [
    "import random\n",
    "\n",
    "with open('random.txt', 'a', encoding='UTF-8') as file:\n",
    "    [print(random.randrange(111, 777), file=file) for _ in range(25)]"
   ],
   "metadata": {
    "collapsed": false
   }
  },
  {
   "cell_type": "markdown",
   "source": [
    "### 17.4.10 Нумерация строк"
   ],
   "metadata": {
    "collapsed": false
   }
  },
  {
   "cell_type": "code",
   "execution_count": null,
   "outputs": [],
   "source": [
    "with open('input.txt', 'r', encoding='UTF-8') as out_file, open('output.txt', 'a', encoding='UTF-8') as in_file:\n",
    "    num = 1\n",
    "    for line in out_file.readlines():\n",
    "        print(f'{num}) {line}', file=in_file, end='')\n",
    "        num += 1"
   ],
   "metadata": {
    "collapsed": false
   }
  },
  {
   "cell_type": "markdown",
   "source": [
    "### 17.4.11 Подарок на новый год"
   ],
   "metadata": {
    "collapsed": false
   }
  },
  {
   "cell_type": "code",
   "execution_count": null,
   "outputs": [],
   "source": [
    "with open('class_scores.txt', 'r', encoding='UTF-8') as out_file, open('new_scores.txt', 'w',\n",
    "                                                                       encoding='UTF-8') as in_file:\n",
    "    names = dict()\n",
    "    for line in out_file:\n",
    "        if int(line.strip().split()[1]) + 5 > 100:\n",
    "            names[line.strip().split()[0]] = 100\n",
    "        else:\n",
    "            names[line.strip().split()[0]] = int(line.strip().split()[1]) + 5\n",
    "\n",
    "    [print(f'{k} {v}', file=in_file) for k, v in names.items()]"
   ],
   "metadata": {
    "collapsed": false
   }
  },
  {
   "cell_type": "markdown",
   "source": [
    "Еще вариант решения."
   ],
   "metadata": {
    "collapsed": false
   }
  },
  {
   "cell_type": "code",
   "execution_count": null,
   "outputs": [],
   "source": [
    "with open('class_scores.txt') as class_scores, open('new_scores.txt', 'w') as new_scores:\n",
    "    for line in class_scores:\n",
    "        name, score = line.split()\n",
    "        score = int(score) + 5\n",
    "        if score > 100:\n",
    "            score = 100\n",
    "        print(name, score, file=new_scores)"
   ],
   "metadata": {
    "collapsed": false
   }
  },
  {
   "cell_type": "markdown",
   "source": [
    "### 17.4.12 Загадка от Жака Фреско"
   ],
   "metadata": {
    "collapsed": false
   }
  },
  {
   "cell_type": "code",
   "execution_count": null,
   "outputs": [],
   "source": [
    "with open('goats.txt') as goats:\n",
    "    goats.readline()\n",
    "    cur_str, colors = '', []\n",
    "    while cur_str != 'GOATS':\n",
    "        cur_str = goats.readline().strip()\n",
    "        colors.append(cur_str)\n",
    "\n",
    "    del colors[-1]\n",
    "    goats_l = goats.readlines()\n",
    "\n",
    "ships = dict()\n",
    "for line in goats_l:\n",
    "    line = line.strip()\n",
    "    if line in colors:\n",
    "        ships[line] = ships.setdefault(line, 0) + 1\n",
    "\n",
    "seven_proc = round((sum(ships.values()) / 100 * 7), 5)\n",
    "\n",
    "to_out = []\n",
    "for k, v in ships.items():\n",
    "    if v > seven_proc:\n",
    "        to_out.append(k)\n",
    "\n",
    "with open('answer.txt', 'w') as answer:\n",
    "    for line in sorted(to_out):\n",
    "        print(line, file=answer)"
   ],
   "metadata": {
    "collapsed": false
   }
  },
  {
   "cell_type": "markdown",
   "source": [
    "Еще решение, не мое"
   ],
   "metadata": {
    "collapsed": false
   }
  },
  {
   "cell_type": "code",
   "execution_count": null,
   "outputs": [],
   "source": [
    "with open(\"goats.txt\") as txt, open(\"answer.txt\", \"w\") as file:\n",
    "    s = txt.readlines()\n",
    "    s = s[s.index(\"GOATS\\n\") + 1:]\n",
    "    for i in sorted(set(s)):\n",
    "        if s.count(i) / len(s) > 0.07:\n",
    "            file.write(i)"
   ],
   "metadata": {
    "collapsed": false
   }
  },
  {
   "cell_type": "markdown",
   "source": [
    "И еще"
   ],
   "metadata": {
    "collapsed": false
   }
  },
  {
   "cell_type": "code",
   "execution_count": null,
   "outputs": [],
   "source": [
    "with open('goats.txt') as f1, open('answer.txt', 'w') as f2:\n",
    "    cont = f1.read().split('\\n')\n",
    "    colors, goats = cont[1:cont.index('GOATS')], cont[cont.index('GOATS') + 1:]\n",
    "    print(*sorted(filter(lambda x: goats.count(x) / len(goats) > 0.07, colors)), sep='\\n', file=f2)"
   ],
   "metadata": {
    "collapsed": false
   }
  },
  {
   "cell_type": "markdown",
   "source": [
    "### 17.4.13 Конкатенация файлов"
   ],
   "metadata": {
    "collapsed": false
   }
  },
  {
   "cell_type": "code",
   "execution_count": null,
   "outputs": [],
   "source": [
    "files_names = []\n",
    "[files_names.append(input()) for _ in range(int(input()))]"
   ],
   "metadata": {
    "collapsed": false
   }
  },
  {
   "cell_type": "code",
   "execution_count": null,
   "outputs": [],
   "source": [
    "strings = []\n",
    "for name in files_names:\n",
    "    with open(name, encoding='UTF-8') as file:\n",
    "        strings.extend(file.readlines())\n",
    "\n",
    "with open('output.txt', 'w', encoding='UTF-8') as out:\n",
    "    out.writelines(strings)"
   ],
   "metadata": {
    "collapsed": false
   }
  },
  {
   "cell_type": "markdown",
   "source": [
    "### 17.4.14 Лог файл"
   ],
   "metadata": {
    "collapsed": false
   }
  },
  {
   "cell_type": "code",
   "execution_count": 16,
   "outputs": [
    {
     "name": "stdout",
     "output_type": "stream",
     "text": [
      "Тимур Гуев\n",
      "Роман Гацалов\n",
      "Габолаев Георгий\n",
      "Гергиева Светлана\n",
      "Гуева Лариса\n",
      "Засеев Ирбек\n",
      "Гуева Лиза\n",
      "Харисов Артур\n",
      "Янченко Роман\n"
     ]
    }
   ],
   "source": [
    "with open('logfile.txt', encoding='UTF-8') as file:\n",
    "    users = dict()\n",
    "    for line in file:\n",
    "        hours_in, minutes_in = int(line.strip().split(',')[1].split(':')[0]), int(\n",
    "            line.strip().split(',')[1].split(':')[1])\n",
    "        total_time_in = (hours_in * 60) + minutes_in\n",
    "\n",
    "        hours_out, minutes_out = int(line.strip().split(',')[2].split(':')[0]), int(\n",
    "            line.strip().split(',')[2].split(':')[1])\n",
    "        total_time_out = (hours_out * 60) + minutes_out\n",
    "\n",
    "        users[line.strip().split(',')[0]] = total_time_out - total_time_in\n",
    "\n",
    "with open('output.txt', 'w', encoding='UTF-8') as out:\n",
    "    print(*filter(lambda x: users.get(x) >= 60, users), sep='\\n', file=out)"
   ],
   "metadata": {
    "collapsed": false
   }
  }
 ],
 "metadata": {
  "kernelspec": {
   "display_name": "Python 3 (ipykernel)",
   "language": "python",
   "name": "python3"
  },
  "language_info": {
   "codemirror_mode": {
    "name": "ipython",
    "version": 3
   },
   "file_extension": ".py",
   "mimetype": "text/x-python",
   "name": "python",
   "nbconvert_exporter": "python",
   "pygments_lexer": "ipython3",
   "version": "3.10.8"
  }
 },
 "nbformat": 4,
 "nbformat_minor": 1
}
