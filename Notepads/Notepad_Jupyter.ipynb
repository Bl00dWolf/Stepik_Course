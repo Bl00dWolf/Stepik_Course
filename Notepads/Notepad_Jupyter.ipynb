{
 "cells": [
  {
   "cell_type": "markdown",
   "metadata": {},
   "source": [
    "### 15.9.12 - Интересные числа"
   ]
  },
  {
   "cell_type": "markdown",
   "metadata": {},
   "source": [
    "Первый вариант решения - простой"
   ]
  },
  {
   "cell_type": "code",
   "execution_count": null,
   "metadata": {},
   "outputs": [],
   "source": [
    "a, b = int(input()), int(input())\n",
    "\n",
    "for i in range(a, b + 1):\n",
    "    condition = []\n",
    "    if '0' in str(i):\n",
    "        continue\n",
    "    for num in str(i):\n",
    "        if i % int(num) == 0:\n",
    "            condition.append(True)\n",
    "        else:\n",
    "            condition.append(False)\n",
    "    if all(condition):\n",
    "        print(i)"
   ]
  },
  {
   "cell_type": "markdown",
   "metadata": {},
   "source": [
    "Второй вариант - с лямбдами и тд"
   ]
  },
  {
   "cell_type": "code",
   "execution_count": null,
   "metadata": {},
   "outputs": [],
   "source": [
    "def check(num):\n",
    "    return all(map(lambda x: int(x) and num % int(x) == 0, str(num)))\n",
    "\n",
    "\n",
    "print(*list(filter(check, range(int(input()), int(input()) + 1))))"
   ]
  },
  {
   "cell_type": "markdown",
   "metadata": {},
   "source": [
    "### 15.9.13 - Хороший пароль"
   ]
  },
  {
   "cell_type": "code",
   "execution_count": null,
   "metadata": {},
   "outputs": [],
   "source": [
    "password = input()"
   ]
  },
  {
   "cell_type": "code",
   "execution_count": null,
   "metadata": {},
   "outputs": [],
   "source": [
    "print('YES' if all([any(map(str.isupper, password)), any(map(str.islower, password)), any(map(str.isdigit, password)),\n",
    "                    len(password) >= 7]) else 'NO')"
   ]
  },
  {
   "cell_type": "markdown",
   "metadata": {},
   "source": [
    "### 15.9.14 - Отличники"
   ]
  },
  {
   "cell_type": "code",
   "execution_count": null,
   "metadata": {},
   "outputs": [],
   "source": [
    "pupils = [[int(input()[-1]) for j in range(int(input()))] for i in range(int(input()))]"
   ]
  },
  {
   "cell_type": "code",
   "execution_count": null,
   "metadata": {},
   "outputs": [],
   "source": [
    "print('YES' if all(map(lambda x: True if 5 in x else False, pupils)) else 'NO')"
   ]
  },
  {
   "cell_type": "markdown",
   "source": [
    "### 17.2.11 Содержимое файла"
   ],
   "metadata": {
    "collapsed": false
   }
  },
  {
   "cell_type": "code",
   "execution_count": null,
   "outputs": [],
   "source": [
    "file = open(input())\n",
    "print(file.read())\n",
    "file.close()"
   ],
   "metadata": {
    "collapsed": false
   }
  },
  {
   "cell_type": "markdown",
   "source": [
    "### 17.2.12 Предпоследняя строка"
   ],
   "metadata": {
    "collapsed": false
   }
  },
  {
   "cell_type": "code",
   "execution_count": null,
   "outputs": [],
   "source": [
    "file = open(input())\n",
    "print(file.readlines()[-2])\n",
    "file.close()"
   ],
   "metadata": {
    "collapsed": false
   }
  },
  {
   "cell_type": "markdown",
   "source": [
    "### 17.2.13 Случайная строка"
   ],
   "metadata": {
    "collapsed": false
   }
  },
  {
   "cell_type": "code",
   "execution_count": null,
   "outputs": [],
   "source": [
    "from random import choice\n",
    "\n",
    "file = open('lines.txt', encoding='UTF-8')\n",
    "print(choice(file.readlines()))\n",
    "file.close()"
   ],
   "metadata": {
    "collapsed": false
   }
  },
  {
   "cell_type": "markdown",
   "source": [
    "### 17.2.14 Сумма двух-1"
   ],
   "metadata": {
    "collapsed": false
   }
  },
  {
   "cell_type": "code",
   "execution_count": null,
   "outputs": [],
   "source": [
    "file = open('numbers.txt', encoding='UTF-8')\n",
    "lines = file.readlines()\n",
    "print(int(lines[0]) + int(lines[1]))\n",
    "file.close()"
   ],
   "metadata": {
    "collapsed": false
   }
  },
  {
   "cell_type": "markdown",
   "source": [
    "### 17.2.15 Сумма двух-2"
   ],
   "metadata": {
    "collapsed": false
   }
  },
  {
   "cell_type": "code",
   "execution_count": null,
   "outputs": [],
   "source": [
    "file = open('nums.txt', encoding='UTF-8')\n",
    "lines = file.read().split()\n",
    "print(sum(map(int, lines)))\n",
    "file.close()"
   ],
   "metadata": {
    "collapsed": false
   }
  },
  {
   "cell_type": "markdown",
   "source": [
    "### 17.2.16 Общая стоимость"
   ],
   "metadata": {
    "collapsed": false
   }
  },
  {
   "cell_type": "code",
   "execution_count": null,
   "outputs": [],
   "source": [
    "file = open('prices.txt', encoding='UTF-8')\n",
    "lines = [line.strip().split() for line in file.readlines()]\n",
    "print(sum(map(lambda x: int(x[1]) * int(x[2]), lines)))\n",
    "file.close()"
   ],
   "metadata": {
    "collapsed": false
   }
  },
  {
   "cell_type": "markdown",
   "source": [
    "### 17.3.7 Переворот строки"
   ],
   "metadata": {
    "collapsed": false
   }
  },
  {
   "cell_type": "code",
   "execution_count": null,
   "outputs": [],
   "source": [
    "with open('text.txt', encoding='UTF-8') as file:\n",
    "    [print(line[::-1]) for line in file]"
   ],
   "metadata": {
    "collapsed": false
   }
  },
  {
   "cell_type": "markdown",
   "source": [
    "### 17.3.8 Обратный порядок"
   ],
   "metadata": {
    "collapsed": false
   }
  },
  {
   "cell_type": "code",
   "execution_count": null,
   "outputs": [],
   "source": [
    "with open('data.txt', encoding='UTF-8') as file:\n",
    "    [print(line) for line in map(str.strip, file.readlines()[::-1])]"
   ],
   "metadata": {
    "collapsed": false
   }
  },
  {
   "cell_type": "markdown",
   "source": [
    "### 17.3.9 Длинные строки"
   ],
   "metadata": {
    "collapsed": false
   }
  },
  {
   "cell_type": "code",
   "execution_count": null,
   "outputs": [],
   "source": [
    "with open('lines.txt', encoding='UTF-8') as file:\n",
    "    lines = [line.strip() for line in file]\n",
    "    lines.sort(key=len, reverse=True)\n",
    "    print(*filter(lambda x: len(x) == len(lines[0]), lines), sep='\\n')"
   ],
   "metadata": {
    "collapsed": false
   }
  },
  {
   "cell_type": "markdown",
   "source": [
    "### 17.3.10 Сумма чисел в строках"
   ],
   "metadata": {
    "collapsed": false
   }
  },
  {
   "cell_type": "code",
   "execution_count": null,
   "outputs": [],
   "source": [
    "with open('numbers.txt', encoding='UTF-8') as file:\n",
    "    lines = [[int(x) for x in line.split()] for line in file.readlines()]\n",
    "[print(sum(line)) for line in lines]"
   ],
   "metadata": {
    "collapsed": false
   }
  },
  {
   "cell_type": "markdown",
   "source": [
    "### 17.3.11 Сумма чисел в файле"
   ],
   "metadata": {
    "collapsed": false
   }
  },
  {
   "cell_type": "code",
   "execution_count": null,
   "outputs": [],
   "source": [
    "from string import ascii_letters\n",
    "with open('nums.txt', encoding='UTF-8') as file:\n",
    "    lines = [line.strip() for line in file.readlines()]\n",
    "\n",
    "for letter in ascii_letters:\n",
    "    for i in range(len(lines)):\n",
    "        lines[i] = lines[i].replace(letter, ' ')\n",
    "lines = [[int(x) for x in line.split()] for line in lines]\n",
    "\n",
    "summa = 0\n",
    "for line in lines:\n",
    "    summa += sum(line)\n",
    "print(summa)"
   ],
   "metadata": {
    "collapsed": false
   }
  },
  {
   "cell_type": "markdown",
   "source": [
    "Вариант короткий и правильный (не мой)"
   ],
   "metadata": {
    "collapsed": false
   }
  },
  {
   "cell_type": "code",
   "execution_count": null,
   "outputs": [],
   "source": [
    "with open('nums.txt', encoding='utf-8') as file:\n",
    "    row = ''.join(c if c.isdigit() else ' ' for c in file.read())\n",
    "    print(sum(map(int, row.split())))"
   ],
   "metadata": {
    "collapsed": false
   }
  },
  {
   "cell_type": "markdown",
   "source": [
    "### 17.3.12 Статистика по файлу"
   ],
   "metadata": {
    "collapsed": false
   }
  },
  {
   "cell_type": "code",
   "execution_count": null,
   "outputs": [],
   "source": [
    "from string import ascii_letters\n",
    "\n",
    "with open('file.txt', encoding='UTF-8') as file:\n",
    "    lines = [line.strip() for line in file.readlines()]\n",
    "\n",
    "len_lines = len(lines)\n",
    "letters = sum([sum([1 for c in line if c in ascii_letters]) for line in lines])\n",
    "words = sum([len(line.split()) for line in lines])\n",
    "\n",
    "print(f'''Input file contains:\n",
    "{letters} letters\n",
    "{words} words\n",
    "{len_lines} lines''')"
   ],
   "metadata": {
    "collapsed": false
   }
  },
  {
   "cell_type": "markdown",
   "source": [
    "Прикольный способ решения от другого человека"
   ],
   "metadata": {
    "collapsed": false
   }
  },
  {
   "cell_type": "code",
   "execution_count": null,
   "outputs": [],
   "source": [
    "with open('lines.txt', encoding='UTF-8') as f:\n",
    "    txt = f.read()\n",
    "    print('Input file contains:')\n",
    "    print(sum(map(str.isalpha, txt)), 'letters')\n",
    "    print(len(txt.split()), 'words')\n",
    "    print(txt.count('\\n') + 1, 'lines')"
   ],
   "metadata": {
    "collapsed": false
   }
  },
  {
   "cell_type": "markdown",
   "source": [
    "### 17.3.13 Random name and surname"
   ],
   "metadata": {
    "collapsed": false
   }
  },
  {
   "cell_type": "code",
   "execution_count": null,
   "outputs": [],
   "source": [
    "from random import choice\n",
    "\n",
    "with open('first_names.txt', encoding='UTF-8') as first, open('last_names.txt', encoding='UTF-8') as last:\n",
    "    first_names, last_names = [line.strip() for line in first], [line.strip() for line in last]\n",
    "\n",
    "[print(f'{choice(first_names)} {choice(last_names)}') for _ in range(3)]"
   ],
   "metadata": {
    "collapsed": false
   }
  },
  {
   "cell_type": "markdown",
   "source": [
    "### 17.3.14 Необычные страны"
   ],
   "metadata": {
    "collapsed": false
   }
  },
  {
   "cell_type": "code",
   "execution_count": null,
   "outputs": [],
   "source": [],
   "metadata": {
    "collapsed": false
   }
  }
 ],
 "metadata": {
  "kernelspec": {
   "display_name": "Python 3 (ipykernel)",
   "language": "python",
   "name": "python3"
  },
  "language_info": {
   "codemirror_mode": {
    "name": "ipython",
    "version": 3
   },
   "file_extension": ".py",
   "mimetype": "text/x-python",
   "name": "python",
   "nbconvert_exporter": "python",
   "pygments_lexer": "ipython3",
   "version": "3.10.8"
  }
 },
 "nbformat": 4,
 "nbformat_minor": 1
}
